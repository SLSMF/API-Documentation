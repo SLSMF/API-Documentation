{
 "cells": [
  {
   "cell_type": "markdown",
   "id": "5da2376d-7a0b-469f-8e80-558c15b1ef4e",
   "metadata": {},
   "source": [
    "# Example for accessing research-quality sea level data through the new SLSMF API\n",
    "\n",
    "This notebook page breaks down a sample script in R for accessing research-quality sea level data through the new SLSMF API (https://api.ioc-sealevelmonitoring.org/v2/doc). The user can modify the inputs and visualise the output sea level timeseries. \n",
    "\n",
    "R and Matlab scripts for accessing the sea level data for the examples mentioned in the document can be found in the folder named *Examples*."
   ]
  },
  {
   "cell_type": "code",
   "execution_count": null,
   "id": "7af6fce3-a866-4cff-b260-33921c72bdc1",
   "metadata": {},
   "outputs": [],
   "source": [
    "# uncomment the line below to install all required packages to run R commands\n",
    "\n",
    "# install.packages(c(\"httr\", \"dplyr\", \"readr\", \"lubridate\", \"ggplot2\", \"jsonlite\", \"stringr\", \"data.table\"))"
   ]
  },
  {
   "cell_type": "code",
   "execution_count": null,
   "id": "4cb0f5e8-4d4a-412e-b0c9-3ba3040677ba",
   "metadata": {},
   "outputs": [],
   "source": [
    "library(httr)\n",
    "library(readr)\n",
    "library(dplyr)\n",
    "library(lubridate)\n",
    "library(ggplot2)\n",
    "library(jsonlite)\n",
    "library(stringr)\n",
    "library(data.table)"
   ]
  },
  {
   "cell_type": "markdown",
   "id": "2e7584ae-957f-4082-96cb-ab8ebcc317d2",
   "metadata": {},
   "source": [
    "## User inputs section\n",
    "\n",
    "Enter your unique *api_key* to be able to access new SLSMF API for downloading research-quality sea level data.\n",
    "\n",
    "Instructions on obtaining an *api_key* can be found in the *API_description.md* document. "
   ]
  },
  {
   "cell_type": "code",
   "execution_count": null,
   "id": "5d02cd1c-0552-4bd5-906a-6979b61805dc",
   "metadata": {},
   "outputs": [],
   "source": [
    "# user inputs - API key\n",
    "\n",
    "api_key <- '' # enter API key"
   ]
  },
  {
   "cell_type": "markdown",
   "id": "7bc76648-bd48-4008-83d1-9d994500eab3",
   "metadata": {},
   "source": [
    "Enter the station ID information in the code below. \n",
    "-  For the *station_ID* option below, the user can either use the IOC station code, or the SSC ID from the SLSMF catalogue: https://www.ioc-sealevelmonitoring.org/ssc/ . Using the SSC code will allow to identify the preferred sensor for the user-defined dates, for the seal level stations for which multiple sensors are attached to a single SSC code. \n",
    "-  For the *sensor* option below, the user can choose whether to harvest data from one ('one-sensor' option) or multiple ('alternate-sensor') sensors. In the case 'one-sensor' is chosen, the API will return data from only one sensor type for the entire period. The selected sensor will be the one that was preferred on the most days during the requested period, filtered by the included sensors parameter. If 'alternate-sensor' is chosen, the API will return data from multiple sensors. The preferred sensor **for each individual day** will be returned, filtered by the included sensors parameter. If no preferred sensor is available on a given day, no data will be returned for that day.\n",
    "-  For the *includesensors* option below, the user can specify one or more sensors to harvest sea level data from. In combination with the above options, if 'one-sensor' is used and a single sensor is specified in the *includesensors*, the procedure for identifying a preferred sensor for the dates specified is not followed. If more than one sensors are specified in *includesensors*, then the procedure for identifying the preferred sensor will be followed as explained in the above bullet, but restricted to the sensors specified in the *includesensors* field. If *includesensors* is left blank (empty string as ''), the code will use all available sensors for the user-defined SSC-ID.\n",
    "\n",
    "The available *includesensor* options and their interpretation is expained in the *API_description.md* document. To check which sensor(s) are available for a station or site, the users can go to the Catalogue tab on the SLSMF page (https://www.ioc-sealevelmonitoring.org/ssc/), find the SSC-ID on the left column, and then click on the 'detail' button on the right column. The available sensors will appear in the right column of the table in the 'Linked codes' section."
   ]
  },
  {
   "cell_type": "code",
   "execution_count": null,
   "id": "84e36d99-dd14-4d88-9d5e-57f265f0052e",
   "metadata": {},
   "outputs": [],
   "source": [
    "# user inputs for station ID and sensor\n",
    "station_ID <- 'pslu'\n",
    "sensor <- 'one-sensor'\n",
    "includesensors <- c('pwl')"
   ]
  },
  {
   "cell_type": "markdown",
   "id": "76e0c46e-bd72-4fda-bf5f-40164bc59aac",
   "metadata": {},
   "source": [
    "In the following fields, enter the starting and ending day for requesting research-quality sea level data in the format YYYY-MM-DD.\n",
    "- The *start_date* marks the beginning of the time period for which data is being requested, marking the initial date of the desired data range (this date is included in the results).\n",
    "- The *end_date* is the last date of the time period for which data is being requested, marking the final date in the specified data range (this date is not included in the results). When the Timestop equals the current date, real time data will be added for the current day. The data will be from the sensor which was selected the most as preferred during the whole period, taking the include sensors field into account.\n",
    "\n",
    "The *days_per_page* field allows the user to restrict the number of days spanning a page in order to reduce the file size per request, with a maximum of 3650 days. \n",
    "-  In case *days_per_page* is smaller or equal to the days of sea level data requested, a single request will be made to the API server and all data will be downloaded in one page.\n",
    "-  Otherwise, the sea level data will be requested in chunks of data restricted to a length equal to *days_per_page* - note that if data gaps exist for a station, days with no data do not count in the *days_per_page*, and therefore it may exceed the time period defined by *days_per_page* in terms of dates."
   ]
  },
  {
   "cell_type": "code",
   "execution_count": null,
   "id": "5ac0cbaa-e44c-4e3a-86cf-e2286064f2a6",
   "metadata": {},
   "outputs": [],
   "source": [
    "# user inputs for data range dates\n",
    "start_date <- '2023-01-01'  # from date, included in result. Default is 8days in the past, 'YYYY-MM-DD'\n",
    "end_date <- '2023-02-01'  # until date, not included in result. Default is day of request 'YYYY-MM-DD'\n",
    "days_per_page <- 15  # maximum number of days spanning a page, max 3650 days"
   ]
  },
  {
   "cell_type": "markdown",
   "id": "239f81c3-3f4c-4787-9932-856ba8c9130e",
   "metadata": {},
   "source": [
    "The user inputs below control the relative sea level mean, the output time vector and format of output file. \n",
    "- *level_data*: when set to *true*, the requested data will be recalculated in reference to the mean sea level of the last ~30 days. Enabling this option (setting it to *true*) is highly recommended when requesting data from alternate sensors. This ensures consistency and prevents discrepancies or shifts in the data, when transitioning between different sensors.\n",
    "- *flag_qc*: when set to *true*, includes qc flags of the qc steps that are not filtered out. For example, with flag_qc true and filter_out_of_range false, the qc flags of out_of_range will be added as an extra field of booleans (T or F).\n",
    "- *original_stime*: set to *true* to obtain the data at the specific rate or frequency defined by the station. This means that\n",
    "the data will be provided according to the station's predefined sampling rates. Setting it to *false* organizes the data into predefined time slots based on the transmission rate, essentially normalizing the data to ensure it aligns with the established intervals. This process adjusts the data to fit consistent, standardized time periods, ensuring that it is uniformly distributed according to the rate at which it was transmitted or recorded.\n",
    "- *media_type*: choose the format in which you would like the requested data to be delivered. Two choices are available: receive the data in text (CSV) format, where values are separated by commas, or in JSON format, which is a structured data format commonly used for representing information in key-value pairs. If *media_type* is left empty, default is 'text/csv'."
   ]
  },
  {
   "cell_type": "code",
   "execution_count": null,
   "id": "c97e898d-51f3-4ecd-b46c-20288cc2da56",
   "metadata": {},
   "outputs": [],
   "source": [
    "# user inputs for sea level outputs\n",
    "level_data <- 'true' # Level data relative to the mean sea level of ~30 days.\n",
    "original_stime <- 'false' # Return the stime not corrected by sensor rate.\n",
    "flag_qc <- 'false' # exclude qc flags \n",
    "media_type <- 'application/json' # choose the output format; options are either 'text/csv' or 'application/json'"
   ]
  },
  {
   "cell_type": "markdown",
   "id": "e63f40a4-99f6-45b6-bca4-5863aa5f6149",
   "metadata": {},
   "source": [
    "The user inputs below, provided in the form of true/false flags, control the individual quality control tools employed by the new SLSMF API. The user needs to set all tool flags to be employed in the post-processing to *true*, and all the others to *false*.\n",
    "- *filter_out_of_range*: when set to *true*, this filter eliminates data points that are significantly higher or lower than the majority of the values within a specified time period. It is designed to identify and remove outliers or anomalies, ensuring that the remaining data more accurately represents typical trends and patterns for that particular time frame.\n",
    "- *filter_exceeded_neighbours*: when set to *true*, this filter works by comparing the difference between adjacent sea level data points. If the difference between a specific data point and its neighboring values exceeds a defined threshold, that data point is removed. This helps eliminate abrupt, unusual fluctuations that may not align with the general trend of the surrounding data. Caution should be exercised when using this filter for tsunami events, as the initial tsunami signal may be incorrectly identified as an outlier due to exceeding the neighboring data points.\n",
    "- *filter_spikes_via_median*: when set to *true*, this filter removes data points that deviate substantially from a spline-fit curve, which is a smooth, flexible curve that models the underlying trend of the data. By identifying and removing points that significantly differ from this curve, the filter helps to retain only those data points that are consistent with the overall trend, improving the accuracy and reliability of the dataset.\n",
    "- *filter_flat_line*: when set to *true*, this filter addresses data gaps that appear as flat, unchanging segments in the data diagrams, typically indicating periods where no data was recorded or the data was unavailable. By removing these flat-line sections, the filter helps to clean the dataset, ensuring that only continuous, meaningful data is retained for analysis and that gaps in the data do not distort the overall trends or patterns.\n",
    "\n",
    "A guiding document describing the quality control steps employed by the new SLSMF API service can be found in the *QC_steps_description.md* document."
   ]
  },
  {
   "cell_type": "code",
   "execution_count": null,
   "id": "9bb3a5d1-4f96-4388-9c92-4906172ad255",
   "metadata": {},
   "outputs": [],
   "source": [
    "# user inputs for post-processing flags\n",
    "filter_out_of_range <- 'true' # Remove out of range values\n",
    "filter_exceeded_neighbours <- 'true' # Remove exceeded neighbour values\n",
    "filter_spikes_via_median <- 'true' # Remove spikes via median values\n",
    "filter_flat_line <- 'true' # Remove flat line"
   ]
  },
  {
   "cell_type": "markdown",
   "id": "81137c40-8aac-4ad8-a212-bc8ee11a2c67",
   "metadata": {},
   "source": [
    "## Data download section\n",
    "\n",
    "The code below is used in R to download the requested sea level data based on the above user inputs. The output is either saved as *SLSMF_tg_data_pgnum.txt* or *SLSMF_tg_data_pgnum.json*, depending on the *media_type* selected above, where *pgnum* is the page number. The code reads back the downloaded data in variable named *S* before plotting."
   ]
  },
  {
   "cell_type": "code",
   "execution_count": null,
   "id": "eb31b050-3c37-4328-adf6-4325bad04c73",
   "metadata": {},
   "outputs": [],
   "source": [
    "# download and read research-quality sea level data\n",
    "\n",
    "api_url <- 'https://api.ioc-sealevelmonitoring.org/v2/research/stations/'\n",
    "\n",
    "# Calculate number of days and pages\n",
    "no_of_days <- as.Date(end_date) - as.Date(start_date)\n",
    "no_of_pages <- ceiling(no_of_days / days_per_page)\n",
    "\n",
    "# Initialize an empty data frame to store sea level data\n",
    "S <- data.frame()\n",
    "\n",
    "# media format options\n",
    "format_csv <- \"text/csv\"\n",
    "format_json <- \"application/json\"\n",
    "\n",
    "# Loop to download data\n",
    "for (i in 1:no_of_pages) {\n",
    "  page <- i  # current page number requested\n",
    "  \n",
    "  # Building the custom URL\n",
    "  url <- paste0(api_url, station_ID, '/sensors/', sensor, \n",
    "                '/data?days_per_page=', days_per_page,\n",
    "                '&page=', page, \n",
    "                '&timestart=', start_date, \n",
    "                '&timestop=', end_date, \n",
    "                '&level_data=', level_data, \n",
    "                '&original_stime=', original_stime, \n",
    "                '&filter_out_of_range=', filter_out_of_range, \n",
    "                '&filter_exceeded_neighbours=', filter_exceeded_neighbours,\n",
    "                '&filter_spikes_via_median=', filter_spikes_via_median, \n",
    "                '&filter_flat_line=', filter_flat_line,\n",
    "                '&flag_qc=', flag_qc)\n",
    "  if (any(nchar(includesensors) > 0)) {\n",
    "    url <- paste0(url, paste0(paste0('&includesensors[]=', includesensors), collapse=\"\"))\n",
    "  }\n",
    "  \n",
    "  # Downloading the data\n",
    "  message(paste('Downloading page', page, '/', no_of_pages, 'of the data requested in '), print(media_type),' format')\n",
    "  response <- GET(url, add_headers(`X-Api-Key` = api_key, Accept = media_type))\n",
    "  \n",
    "  if (status_code(response) != 200) {\n",
    "    stop(response)\n",
    "  }\n",
    "  \n",
    "  response <- content(response, as = \"text\", encoding = \"UTF-8\")\n",
    "  \n",
    "  if (str_equal(format_json, media_type) > 0) {\n",
    "    tmp <- fromJSON(response, simplifyVector = TRUE)[\"data\"] |> \n",
    "      as.data.frame()\n",
    "    colnames(tmp) = gsub(\"data\\\\.\", \"\", colnames(tmp))\n",
    "    tmp$stime <- as.POSIXct(tmp$stime,format=\"%Y-%m-%d %H:%M:%S\",tz=\"UTC\")\n",
    "  } else {\n",
    "    tmp <- data.table::fread(response, skip=2)\n",
    "  }\n",
    "  S <- bind_rows(S, tmp)\n",
    "  \n",
    "  Sys.sleep(1)\n",
    "}\n",
    "\n",
    "\n",
    "# print(str_sub(response, 1, 500))\n",
    "\n",
    "if (nrow(S) == 0) {\n",
    "  stop(\"No sea level data.\")\n",
    "}\n",
    "\n",
    "dplyr::glimpse(S)"
   ]
  },
  {
   "cell_type": "markdown",
   "id": "7f5f7235-1d04-4c69-bd0a-2263d59b3df0",
   "metadata": {},
   "source": [
    "Uncomment the line below to save the sea level data to a CSV file."
   ]
  },
  {
   "cell_type": "code",
   "execution_count": null,
   "id": "b48012b6-bc6c-4238-afca-f8056f16e14a",
   "metadata": {},
   "outputs": [],
   "source": [
    "# data.table::fwrite(S, file = 'SLSMF_tg_data.csv', quote=F)"
   ]
  },
  {
   "cell_type": "markdown",
   "id": "7da5defa-b548-4db0-8e06-b8d90f88b830",
   "metadata": {},
   "source": [
    "If a CSV file has been saved, it can be loaded instead of downloading the data again."
   ]
  },
  {
   "cell_type": "code",
   "execution_count": null,
   "id": "9f3f2e9a-1d40-4dbf-82fb-34409f225523",
   "metadata": {},
   "outputs": [],
   "source": [
    "# S <- data.table::fread('SLSMF_tg_data.csv')"
   ]
  },
  {
   "cell_type": "markdown",
   "id": "285bb8b6-b1f7-4a84-aa9f-11749dcaa66c",
   "metadata": {},
   "source": [
    "## Data plotting section\n",
    "\n",
    "The code below is used in R to plot the requested sea level data based on the above user inputs. The plot of the downloaded sea level time series should appear below the code."
   ]
  },
  {
   "cell_type": "code",
   "execution_count": null,
   "id": "92c6b8ed-5d4f-4c1f-944e-8870f54fcd7c",
   "metadata": {},
   "outputs": [],
   "source": [
    "# plot the data\n",
    "ggplot() +\n",
    "  # Plot the S.stime and S.slevel\n",
    "  geom_line(data = S, aes(x = stime, y = slevel), color = \"black\", linewidth = 1.5) +\n",
    "  # Add legend and labels\n",
    "  labs(\n",
    "    title = paste(\"data for SLSMF station ID =\", station_ID),\n",
    "    x = \"date\",\n",
    "    y = \"WL (m)\"\n",
    "  ) +\n",
    "  # Enable grid\n",
    "  theme_minimal() +\n",
    "  theme(panel.grid.major = element_line(color = \"grey\"),\n",
    "        panel.grid.minor = element_line(color = \"lightgrey\"))"
   ]
  }
 ],
 "metadata": {
  "kernelspec": {
   "display_name": "R",
   "language": "R",
   "name": "ir"
  },
  "language_info": {
   "codemirror_mode": "r",
   "file_extension": ".r",
   "mimetype": "text/x-r-source",
   "name": "R",
   "pygments_lexer": "r",
   "version": "4.3.2"
  }
 },
 "nbformat": 4,
 "nbformat_minor": 5
}
